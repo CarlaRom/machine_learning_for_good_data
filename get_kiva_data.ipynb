{
 "cells": [
  {
   "cell_type": "markdown",
   "metadata": {},
   "source": [
    "Get Kiva data\n",
    "====="
   ]
  },
  {
   "cell_type": "code",
   "execution_count": 64,
   "metadata": {},
   "outputs": [],
   "source": [
    "reset -fs"
   ]
  },
  {
   "cell_type": "code",
   "execution_count": 65,
   "metadata": {},
   "outputs": [],
   "source": [
    "import os\n",
    "import json\n",
    "import logging\n",
    "import requests\n",
    "import time\n",
    "from urllib.request import urlopen, Request\n",
    "\n",
    "from pandas.io.json import json_normalize\n",
    "import pandas as pd"
   ]
  },
  {
   "cell_type": "code",
   "execution_count": 66,
   "metadata": {},
   "outputs": [],
   "source": [
    "# # # Debugging code\n",
    "# for code in [None]:\n",
    "#     print(code)\n",
    "#     url = f'http://api.kivaws.org/v1/loans/search.json?country_code={code}&per_page=5'\n",
    "#     r = requests.get(url)\n",
    "#     # r.status_code\n",
    "#     print(r.json()['loans'][0])\n",
    "#     break"
   ]
  },
  {
   "cell_type": "code",
   "execution_count": 67,
   "metadata": {},
   "outputs": [],
   "source": [
    "# Africian contry codes\n",
    "country_codes_without_data = [\"DZ\", \"AO\", \"SH\", \"CV\", \"CF\", \"TD\", \"KM\", \"DJ\",\"GQ\", \"ER\", \"SZ\",  \"ET\",  \"GA\", \"GM\", \"GN\",  \"GW\",    \"LY\",  \"MU\", \"YT\", \"MA\",  \"NE\",  \"ST\",  \"RE\", \"ST\",   \"SC\",  \"SH\", \"SD\",\"SZ\",\"TN\",  ]\n",
    "\n",
    "country_codes_with_data = [\"BJ\", \"BW\", \"BF\", \"BI\", \"CM\", \"CG\", \"CD\", \"EG\", \n",
    "                           \"GH\", \"CI\", \"KE\", \"LS\", \"LR\", \"MG\", \"MW\", \"ML\", \n",
    "                           \"MR\", \"MZ\", \"NA\", \"NG\", \"RW\", \"SN\", \"SL\", \"SO\",\n",
    "                           \"ZA\", \"SS\", \"TZ\", \"TG\", \"UG\", \"CD\", \"ZM\", \"TZ\", \"ZW\"]"
   ]
  },
  {
   "cell_type": "code",
   "execution_count": 68,
   "metadata": {},
   "outputs": [
    {
     "name": "stdout",
     "output_type": "stream",
     "text": [
      "Requesting…\n",
      "Country: BJ; Page: 1\n",
      "Country: BW; Page: 1\n"
     ]
    },
    {
     "name": "stderr",
     "output_type": "stream",
     "text": [
      "/Users/brian/anaconda3/lib/python3.6/site-packages/pandas/core/frame.py:6211: FutureWarning: Sorting because non-concatenation axis is not aligned. A future version\n",
      "of pandas will change to not sort by default.\n",
      "\n",
      "To accept the future behavior, pass 'sort=False'.\n",
      "\n",
      "To retain the current behavior and silence the warning, pass 'sort=True'.\n",
      "\n",
      "  sort=sort)\n"
     ]
    },
    {
     "name": "stdout",
     "output_type": "stream",
     "text": [
      "Country: BF; Page: 1\n",
      "Country: BI; Page: 1\n",
      "Country: CM; Page: 1\n",
      "Country: CG; Page: 1\n",
      "Country: CD; Page: 1\n",
      "Country: EG; Page: 1\n",
      "Country: GH; Page: 1\n",
      "Country: CI; Page: 1\n",
      "Country: KE; Page: 1\n",
      "Country: LS; Page: 1\n",
      "Country: LR; Page: 1\n",
      "Country: MG; Page: 1\n",
      "Country: MW; Page: 1\n",
      "Country: ML; Page: 1\n",
      "Country: MR; Page: 1\n",
      "Country: MZ; Page: 1\n",
      "Country: NA; Page: 1\n",
      "Country: NG; Page: 1\n",
      "Country: RW; Page: 1\n",
      "Country: SN; Page: 1\n",
      "Country: SL; Page: 1\n",
      "Country: SO; Page: 1\n",
      "Country: ZA; Page: 1\n",
      "Country: SS; Page: 1\n",
      "Country: TZ; Page: 1\n",
      "Country: TG; Page: 1\n",
      "Country: UG; Page: 1\n",
      "Country: CD; Page: 1\n",
      "Country: ZM; Page: 1\n",
      "Too many requests. Slow down 🐢\n"
     ]
    },
    {
     "ename": "KeyError",
     "evalue": "'paging'",
     "output_type": "error",
     "traceback": [
      "\u001b[0;31m---------------------------------------------------------------------------\u001b[0m",
      "\u001b[0;31mKeyError\u001b[0m                                  Traceback (most recent call last)",
      "\u001b[0;32m<ipython-input-68-2288a8cf6ac5>\u001b[0m in \u001b[0;36m<module>\u001b[0;34m()\u001b[0m\n\u001b[1;32m     14\u001b[0m \u001b[0;34m\u001b[0m\u001b[0m\n\u001b[1;32m     15\u001b[0m         \u001b[0mdata\u001b[0m \u001b[0;34m=\u001b[0m \u001b[0mjson\u001b[0m\u001b[0;34m.\u001b[0m\u001b[0mloads\u001b[0m\u001b[0;34m(\u001b[0m\u001b[0mr\u001b[0m\u001b[0;34m.\u001b[0m\u001b[0mtext\u001b[0m\u001b[0;34m)\u001b[0m\u001b[0;34m\u001b[0m\u001b[0m\n\u001b[0;32m---> 16\u001b[0;31m         \u001b[0;32mif\u001b[0m \u001b[0mdata\u001b[0m\u001b[0;34m[\u001b[0m\u001b[0;34m'paging'\u001b[0m\u001b[0;34m]\u001b[0m\u001b[0;34m[\u001b[0m\u001b[0;34m'total'\u001b[0m\u001b[0;34m]\u001b[0m \u001b[0;34m==\u001b[0m \u001b[0;36m0\u001b[0m\u001b[0;34m:\u001b[0m\u001b[0;34m\u001b[0m\u001b[0m\n\u001b[0m\u001b[1;32m     17\u001b[0m             \u001b[0;32mbreak\u001b[0m \u001b[0;31m# Stop if there are no loans\u001b[0m\u001b[0;34m\u001b[0m\u001b[0m\n\u001b[1;32m     18\u001b[0m \u001b[0;34m\u001b[0m\u001b[0m\n",
      "\u001b[0;31mKeyError\u001b[0m: 'paging'"
     ]
    }
   ],
   "source": [
    "loans_complete = pd.DataFrame()\n",
    "print(\"Requesting…\")\n",
    "\n",
    "for country_iso_code in country_codes_with_data:   \n",
    "#     n_pages = 1\n",
    "#     for page in range(1, n_pages+1):\n",
    "        page = 1\n",
    "        print(f\"Country: {country_iso_code}; Page: {page}\")\n",
    "        n_per_page = 10\n",
    "        url = f'http://api.kivaws.org/v1/loans/search.json?country_code={country_iso_code}&per_page={n_per_page}&page={page}'\n",
    "        r = requests.get(url)\n",
    "        if r.status_code == 403:\n",
    "            raise Exception(\"Too many requests. Slow down 🐢\")\n",
    "        \n",
    "        data = json.loads(r.text)\n",
    "        if data['paging']['total'] == 0:\n",
    "            break # Stop if there are no loans\n",
    "            \n",
    "        loans = json_normalize(data['loans'])\n",
    "        \n",
    "        # Take the loan id column from our retrieved loan data, and use it to pull additional details\n",
    "        # about our loans. We store this in a seperate table loans_details\n",
    "        loan_ids = loans['id'].tolist()\n",
    "        loan_ids_str = ','.join(str(e) for e in loan_ids)\n",
    "\n",
    "        r = requests.get('https://api.kivaws.org/v1/loans/'+loan_ids_str+'.json')\n",
    "        ld_data = json.loads(r.text)\n",
    "        loans_ext = json_normalize(ld_data['loans'])\n",
    "\n",
    "        # Join on two dataframes\n",
    "        temp = pd.merge(loans, \n",
    "                 loans_ext, \n",
    "                 how='inner', \n",
    "                 on='id', \n",
    "                 sort=True,\n",
    "                 left_on=None, right_on=None, left_index=False, right_index=False, \n",
    "                 suffixes=('_x', '_y'), copy=True, indicator=False, validate=None)\n",
    "        loans_complete = loans_complete.append(temp)\n",
    "         \n",
    "#         print(\"The number of loans on current page: {}\".format(len(loans_full.index)))\n",
    "        time.sleep(1) # Wait a little while to so we don't overload Kiva servers"
   ]
  },
  {
   "cell_type": "code",
   "execution_count": 104,
   "metadata": {},
   "outputs": [],
   "source": [
    "loans_complete.columns = [c.replace('.', '_') for c in loans_complete.columns]"
   ]
  },
  {
   "cell_type": "code",
   "execution_count": 105,
   "metadata": {},
   "outputs": [
    {
     "data": {
      "text/plain": [
       "(282, 79)"
      ]
     },
     "execution_count": 105,
     "metadata": {},
     "output_type": "execute_result"
    }
   ],
   "source": [
    "loans_complete.shape"
   ]
  },
  {
   "cell_type": "code",
   "execution_count": 106,
   "metadata": {},
   "outputs": [
    {
     "data": {
      "text/html": [
       "<div>\n",
       "<style scoped>\n",
       "    .dataframe tbody tr th:only-of-type {\n",
       "        vertical-align: middle;\n",
       "    }\n",
       "\n",
       "    .dataframe tbody tr th {\n",
       "        vertical-align: top;\n",
       "    }\n",
       "\n",
       "    .dataframe thead th {\n",
       "        text-align: right;\n",
       "    }\n",
       "</style>\n",
       "<table border=\"1\" class=\"dataframe\">\n",
       "  <thead>\n",
       "    <tr style=\"text-align: right;\">\n",
       "      <th></th>\n",
       "      <th>activity_x</th>\n",
       "      <th>activity_y</th>\n",
       "      <th>basket_amount_x</th>\n",
       "      <th>basket_amount_y</th>\n",
       "      <th>bonus_credit_eligibility_x</th>\n",
       "      <th>bonus_credit_eligibility_y</th>\n",
       "      <th>borrower_count</th>\n",
       "      <th>borrowers</th>\n",
       "      <th>description_languages_x</th>\n",
       "      <th>description_languages_y</th>\n",
       "      <th>...</th>\n",
       "      <th>use_x</th>\n",
       "      <th>use_y</th>\n",
       "      <th>video_id_x</th>\n",
       "      <th>video_id_y</th>\n",
       "      <th>video_thumbnailImageId_x</th>\n",
       "      <th>video_thumbnailImageId_y</th>\n",
       "      <th>video_title_x</th>\n",
       "      <th>video_title_y</th>\n",
       "      <th>video_youtubeId_x</th>\n",
       "      <th>video_youtubeId_y</th>\n",
       "    </tr>\n",
       "  </thead>\n",
       "  <tbody>\n",
       "    <tr>\n",
       "      <th>8</th>\n",
       "      <td>Retail</td>\n",
       "      <td>Retail</td>\n",
       "      <td>0.0</td>\n",
       "      <td>0.0</td>\n",
       "      <td>False</td>\n",
       "      <td>False</td>\n",
       "      <td>20</td>\n",
       "      <td>[{'first_name': ' Venantia', 'last_name': '', ...</td>\n",
       "      <td>[fr, en]</td>\n",
       "      <td>[fr, en]</td>\n",
       "      <td>...</td>\n",
       "      <td>to buy and transport 8 pigs to strengthen her ...</td>\n",
       "      <td>to buy and transport 8 pigs to strengthen her ...</td>\n",
       "      <td>NaN</td>\n",
       "      <td>NaN</td>\n",
       "      <td>NaN</td>\n",
       "      <td>NaN</td>\n",
       "      <td>NaN</td>\n",
       "      <td>NaN</td>\n",
       "      <td>NaN</td>\n",
       "      <td>NaN</td>\n",
       "    </tr>\n",
       "    <tr>\n",
       "      <th>9</th>\n",
       "      <td>Textiles</td>\n",
       "      <td>Textiles</td>\n",
       "      <td>0.0</td>\n",
       "      <td>0.0</td>\n",
       "      <td>False</td>\n",
       "      <td>False</td>\n",
       "      <td>26</td>\n",
       "      <td>[{'first_name': ' Wema', 'last_name': '', 'gen...</td>\n",
       "      <td>[fr, en]</td>\n",
       "      <td>[fr, en]</td>\n",
       "      <td>...</td>\n",
       "      <td>to stock up with sewing materials (cloth, thre...</td>\n",
       "      <td>to stock up with sewing materials (cloth, thre...</td>\n",
       "      <td>NaN</td>\n",
       "      <td>NaN</td>\n",
       "      <td>NaN</td>\n",
       "      <td>NaN</td>\n",
       "      <td>NaN</td>\n",
       "      <td>NaN</td>\n",
       "      <td>NaN</td>\n",
       "      <td>NaN</td>\n",
       "    </tr>\n",
       "  </tbody>\n",
       "</table>\n",
       "<p>2 rows × 79 columns</p>\n",
       "</div>"
      ],
      "text/plain": [
       "  activity_x activity_y  basket_amount_x  basket_amount_y  \\\n",
       "8     Retail     Retail              0.0              0.0   \n",
       "9   Textiles   Textiles              0.0              0.0   \n",
       "\n",
       "   bonus_credit_eligibility_x  bonus_credit_eligibility_y  borrower_count  \\\n",
       "8                       False                       False              20   \n",
       "9                       False                       False              26   \n",
       "\n",
       "                                           borrowers description_languages_x  \\\n",
       "8  [{'first_name': ' Venantia', 'last_name': '', ...                [fr, en]   \n",
       "9  [{'first_name': ' Wema', 'last_name': '', 'gen...                [fr, en]   \n",
       "\n",
       "  description_languages_y        ...          \\\n",
       "8                [fr, en]        ...           \n",
       "9                [fr, en]        ...           \n",
       "\n",
       "                                               use_x  \\\n",
       "8  to buy and transport 8 pigs to strengthen her ...   \n",
       "9  to stock up with sewing materials (cloth, thre...   \n",
       "\n",
       "                                               use_y video_id_x  video_id_y  \\\n",
       "8  to buy and transport 8 pigs to strengthen her ...        NaN         NaN   \n",
       "9  to stock up with sewing materials (cloth, thre...        NaN         NaN   \n",
       "\n",
       "   video_thumbnailImageId_x video_thumbnailImageId_y  video_title_x  \\\n",
       "8                       NaN                      NaN            NaN   \n",
       "9                       NaN                      NaN            NaN   \n",
       "\n",
       "   video_title_y  video_youtubeId_x  video_youtubeId_y  \n",
       "8            NaN                NaN                NaN  \n",
       "9            NaN                NaN                NaN  \n",
       "\n",
       "[2 rows x 79 columns]"
      ]
     },
     "execution_count": 106,
     "metadata": {},
     "output_type": "execute_result"
    }
   ],
   "source": [
    "loans_complete.tail(n=2)"
   ]
  },
  {
   "cell_type": "code",
   "execution_count": 107,
   "metadata": {},
   "outputs": [
    {
     "data": {
      "text/plain": [
       "['activity_x',\n",
       " 'activity_y',\n",
       " 'basket_amount_x',\n",
       " 'basket_amount_y',\n",
       " 'bonus_credit_eligibility_x',\n",
       " 'bonus_credit_eligibility_y',\n",
       " 'borrower_count',\n",
       " 'borrowers',\n",
       " 'description_languages_x',\n",
       " 'description_languages_y',\n",
       " 'description_texts_en',\n",
       " 'description_texts_fr',\n",
       " 'description_texts_pt',\n",
       " 'funded_amount_x',\n",
       " 'funded_amount_y',\n",
       " 'funded_date',\n",
       " 'id',\n",
       " 'image_id_x',\n",
       " 'image_id_y',\n",
       " 'image_template_id_x',\n",
       " 'image_template_id_y',\n",
       " 'journal_totals_bulkEntries',\n",
       " 'journal_totals_entries',\n",
       " 'lender_count_x',\n",
       " 'lender_count_y',\n",
       " 'loan_amount_x',\n",
       " 'loan_amount_y',\n",
       " 'location_country_code_x',\n",
       " 'location_country_code_y',\n",
       " 'location_country_x',\n",
       " 'location_country_y',\n",
       " 'location_geo_level_x',\n",
       " 'location_geo_level_y',\n",
       " 'location_geo_pairs_x',\n",
       " 'location_geo_pairs_y',\n",
       " 'location_geo_type_x',\n",
       " 'location_geo_type_y',\n",
       " 'location_town_x',\n",
       " 'location_town_y',\n",
       " 'name_x',\n",
       " 'name_y',\n",
       " 'partner_id_x',\n",
       " 'partner_id_y',\n",
       " 'payments',\n",
       " 'planned_expiration_date_x',\n",
       " 'planned_expiration_date_y',\n",
       " 'posted_date_x',\n",
       " 'posted_date_y',\n",
       " 'sector_x',\n",
       " 'sector_y',\n",
       " 'status_x',\n",
       " 'status_y',\n",
       " 'tags_x',\n",
       " 'tags_y',\n",
       " 'terms_disbursal_amount',\n",
       " 'terms_disbursal_currency',\n",
       " 'terms_disbursal_date',\n",
       " 'terms_loan_amount',\n",
       " 'terms_local_payments',\n",
       " 'terms_loss_liability_currency_exchange',\n",
       " 'terms_loss_liability_currency_exchange_coverage_rate',\n",
       " 'terms_loss_liability_nonpayment',\n",
       " 'terms_repayment_interval',\n",
       " 'terms_repayment_term',\n",
       " 'terms_scheduled_payments',\n",
       " 'themes_x',\n",
       " 'themes_y',\n",
       " 'translator_byline',\n",
       " 'translator_image',\n",
       " 'use_x',\n",
       " 'use_y',\n",
       " 'video_id_x',\n",
       " 'video_id_y',\n",
       " 'video_thumbnailImageId_x',\n",
       " 'video_thumbnailImageId_y',\n",
       " 'video_title_x',\n",
       " 'video_title_y',\n",
       " 'video_youtubeId_x',\n",
       " 'video_youtubeId_y']"
      ]
     },
     "execution_count": 107,
     "metadata": {},
     "output_type": "execute_result"
    }
   ],
   "source": [
    "cols = loans_complete.columns.tolist()\n",
    "cols"
   ]
  },
  {
   "cell_type": "code",
   "execution_count": 111,
   "metadata": {},
   "outputs": [
    {
     "data": {
      "text/plain": [
       "8    Retail\n",
       "9      Arts\n",
       "Name: sector_x, dtype: object"
      ]
     },
     "execution_count": 111,
     "metadata": {},
     "output_type": "execute_result"
    }
   ],
   "source": [
    "loans_complete.sector_x.tail(n=2)"
   ]
  },
  {
   "cell_type": "code",
   "execution_count": 112,
   "metadata": {},
   "outputs": [
    {
     "data": {
      "text/html": [
       "<div>\n",
       "<style scoped>\n",
       "    .dataframe tbody tr th:only-of-type {\n",
       "        vertical-align: middle;\n",
       "    }\n",
       "\n",
       "    .dataframe tbody tr th {\n",
       "        vertical-align: top;\n",
       "    }\n",
       "\n",
       "    .dataframe thead th {\n",
       "        text-align: right;\n",
       "    }\n",
       "</style>\n",
       "<table border=\"1\" class=\"dataframe\">\n",
       "  <thead>\n",
       "    <tr style=\"text-align: right;\">\n",
       "      <th></th>\n",
       "      <th>id_number</th>\n",
       "      <th>loan_amount</th>\n",
       "      <th>lender_count</th>\n",
       "      <th>status</th>\n",
       "      <th>funded_date</th>\n",
       "      <th>funded_amount</th>\n",
       "      <th>repayment_term</th>\n",
       "      <th>location_country_code</th>\n",
       "      <th>sector</th>\n",
       "      <th>description_texts_en</th>\n",
       "      <th>use</th>\n",
       "    </tr>\n",
       "  </thead>\n",
       "  <tbody>\n",
       "    <tr>\n",
       "      <th>8</th>\n",
       "      <td>1567020</td>\n",
       "      <td>5250</td>\n",
       "      <td>2</td>\n",
       "      <td>fundraising</td>\n",
       "      <td>NaN</td>\n",
       "      <td>50</td>\n",
       "      <td>6</td>\n",
       "      <td>CD</td>\n",
       "      <td>Retail</td>\n",
       "      <td>Aimercianne has been the representative of the...</td>\n",
       "      <td>to buy and transport 8 pigs to strengthen her ...</td>\n",
       "    </tr>\n",
       "    <tr>\n",
       "      <th>9</th>\n",
       "      <td>1567122</td>\n",
       "      <td>6200</td>\n",
       "      <td>4</td>\n",
       "      <td>fundraising</td>\n",
       "      <td>NaN</td>\n",
       "      <td>100</td>\n",
       "      <td>6</td>\n",
       "      <td>CD</td>\n",
       "      <td>Arts</td>\n",
       "      <td>Wema is an entrepreneurial woman, owner of a s...</td>\n",
       "      <td>to stock up with sewing materials (cloth, thre...</td>\n",
       "    </tr>\n",
       "  </tbody>\n",
       "</table>\n",
       "</div>"
      ],
      "text/plain": [
       "   id_number  loan_amount  lender_count       status funded_date  \\\n",
       "8    1567020         5250             2  fundraising         NaN   \n",
       "9    1567122         6200             4  fundraising         NaN   \n",
       "\n",
       "   funded_amount  repayment_term location_country_code  sector  \\\n",
       "8             50               6                    CD  Retail   \n",
       "9            100               6                    CD    Arts   \n",
       "\n",
       "                                description_texts_en  \\\n",
       "8  Aimercianne has been the representative of the...   \n",
       "9  Wema is an entrepreneurial woman, owner of a s...   \n",
       "\n",
       "                                                 use  \n",
       "8  to buy and transport 8 pigs to strengthen her ...  \n",
       "9  to stock up with sewing materials (cloth, thre...  "
      ]
     },
     "execution_count": 112,
     "metadata": {},
     "output_type": "execute_result"
    }
   ],
   "source": [
    "# Select and rename columns \n",
    "#TODO: \n",
    "selected_cols = ['id', \n",
    "                 'loan_amount_x', \n",
    "                 'lender_count_x',\n",
    "                 'status_x',\n",
    "                 'funded_date',\n",
    "                 'funded_amount_x',\n",
    "                 'terms_repayment_term',\n",
    "                 'location_country_code_x',\n",
    "                 'sector_x',  \n",
    "                 'description_texts_en',\n",
    "                 'use_x',\n",
    "\n",
    "                ]\n",
    "loans_select = loans_complete[selected_cols]\n",
    "loans_select = loans_select.rename(columns={'id': 'id_number', \n",
    "                                            'sector_x': 'sector',\n",
    "                                            'status_x': 'status',\n",
    "                                           'loan_amount_x': 'loan_amount',\n",
    "                                            'lender_count_x': 'lender_count',\n",
    "                                           'location_country_code_x': 'location_country_code',\n",
    "                                           'use_x': 'use',\n",
    "                                            'funded_amount_x': 'funded_amount',\n",
    "                                            'loan_amount_x': 'loan_amount',\n",
    "                                            'terms_repayment_term': 'repayment_term'\n",
    "                                           })\n",
    "\n",
    "\n",
    "loans_select.tail(n=2)"
   ]
  },
  {
   "cell_type": "code",
   "execution_count": 116,
   "metadata": {},
   "outputs": [
    {
     "data": {
      "text/plain": [
       "['id_number',\n",
       " 'loan_amount',\n",
       " 'lender_count',\n",
       " 'status',\n",
       " 'funded_date',\n",
       " 'funded_amount',\n",
       " 'repayment_term',\n",
       " 'location_country_code',\n",
       " 'sector',\n",
       " 'description_texts_en',\n",
       " 'use']"
      ]
     },
     "execution_count": 116,
     "metadata": {},
     "output_type": "execute_result"
    }
   ],
   "source": [
    "loans_select.columns.tolist()"
   ]
  },
  {
   "cell_type": "markdown",
   "metadata": {},
   "source": [
    "-----\n",
    "\n",
    "Let's save our data!"
   ]
  },
  {
   "cell_type": "code",
   "execution_count": 113,
   "metadata": {},
   "outputs": [],
   "source": [
    "path = './'\n",
    "loans_select.to_csv(path+'loans.csv',\n",
    "                   index=False)"
   ]
  },
  {
   "cell_type": "code",
   "execution_count": null,
   "metadata": {},
   "outputs": [],
   "source": []
  },
  {
   "cell_type": "code",
   "execution_count": null,
   "metadata": {},
   "outputs": [],
   "source": []
  },
  {
   "cell_type": "code",
   "execution_count": null,
   "metadata": {},
   "outputs": [],
   "source": []
  },
  {
   "cell_type": "code",
   "execution_count": null,
   "metadata": {},
   "outputs": [],
   "source": []
  },
  {
   "cell_type": "code",
   "execution_count": null,
   "metadata": {},
   "outputs": [],
   "source": []
  },
  {
   "cell_type": "code",
   "execution_count": null,
   "metadata": {},
   "outputs": [],
   "source": []
  },
  {
   "cell_type": "code",
   "execution_count": null,
   "metadata": {},
   "outputs": [],
   "source": []
  },
  {
   "cell_type": "markdown",
   "metadata": {},
   "source": [
    "Not used\n",
    "-----"
   ]
  },
  {
   "cell_type": "markdown",
   "metadata": {},
   "source": [
    "We will also pull data about Kiva's partners, who are the intermediaries between Kiva and end recipients for the majority of loans made."
   ]
  },
  {
   "cell_type": "code",
   "execution_count": null,
   "metadata": {},
   "outputs": [],
   "source": [
    "# data_path = '~/intro_to_machine_learning/data'\n",
    "# df=pd.read_csv(data_path+'/loans_details.csv', low_memory=False)\n",
    "# df.head()"
   ]
  },
  {
   "cell_type": "code",
   "execution_count": null,
   "metadata": {},
   "outputs": [],
   "source": [
    "# df=df[df['partner_id'].notnull()]\n",
    "# df['partner_id']=df['partner_id'].astype(int).astype(str)\n",
    "# partner_id=df['partner_id'].unique().tolist()"
   ]
  },
  {
   "cell_type": "code",
   "execution_count": null,
   "metadata": {},
   "outputs": [],
   "source": [
    "# d = r.get('https://api.kivaws.org/v1/partners/322.json?app_id=org.deltanalytics')"
   ]
  },
  {
   "cell_type": "code",
   "execution_count": null,
   "metadata": {
    "scrolled": false
   },
   "outputs": [],
   "source": [
    "# d.headers"
   ]
  },
  {
   "cell_type": "code",
   "execution_count": null,
   "metadata": {},
   "outputs": [],
   "source": [
    "# d.json();"
   ]
  },
  {
   "cell_type": "code",
   "execution_count": null,
   "metadata": {},
   "outputs": [],
   "source": [
    "# def extract_loan_partners(partner_ids):\n",
    "#     loan_partner_details=pd.DataFrame()\n",
    "#     for n in partner_ids:\n",
    "#         d = r.get('https://api.kivaws.org/v1/partners/'+n+'.json?app_id=org.deltanalytics')\n",
    "#         data = json.loads(d.text)\n",
    "#         partners=json_normalize(data['partners'])\n",
    "#         loan_partner_details=loan_partner_details.append(partners, ignore_index=True)\n",
    "    \n",
    "#     return loan_partner_details  "
   ]
  },
  {
   "cell_type": "code",
   "execution_count": null,
   "metadata": {},
   "outputs": [],
   "source": [
    "# loan_partner_details=extract_loan_partners(partner_id)"
   ]
  },
  {
   "cell_type": "code",
   "execution_count": null,
   "metadata": {
    "scrolled": true
   },
   "outputs": [],
   "source": [
    "# loan_partner_details.to_csv('~/intro_to_machine_learning/data/loans_partner_details.csv')"
   ]
  },
  {
   "cell_type": "markdown",
   "metadata": {},
   "source": [
    "## Pulling each loan's lender details\n",
    "\n",
    "Now that we have selected a subset of loans to focus in on, we want to pull all of the lenders of these loans. We do so here by first creating a list of the loans we are interested in. "
   ]
  },
  {
   "cell_type": "code",
   "execution_count": null,
   "metadata": {
    "scrolled": false
   },
   "outputs": [],
   "source": [
    "# # loan_ids = df['id'].astype(int).astype(str)\n",
    "# loan_ids = loan_ids.unique().tolist()\n",
    "# loan_ids[0:5]"
   ]
  },
  {
   "cell_type": "markdown",
   "metadata": {},
   "source": [
    "Here we define a function that will extract details of every lender who has contributed to a single loan, and then loop it over the list of loans that we created in the previous step:"
   ]
  },
  {
   "cell_type": "code",
   "execution_count": null,
   "metadata": {},
   "outputs": [],
   "source": [
    "# def extract_loan_lenders(loan_ids):\n",
    "#     loan_lenders_details=pd.DataFrame()\n",
    "#     for n in loan_ids:\n",
    "#         d = r.get('https://api.kivaws.org/v1/loans/'+n+'/lenders.json?app_id=org.deltanalytics')\n",
    "#         data = json.loads(d.text)\n",
    "#         if len(data['lenders']) != 0:\n",
    "#             lenders=json_normalize(data['lenders'])\n",
    "#         else: lenders = pd.DataFrame()\n",
    "#         lenders['loan_id'] = n\n",
    "#         loan_lenders_details = loan_lenders_details.append(lenders, ignore_index=True)\n",
    "\n",
    "#     return loan_lenders_details  "
   ]
  },
  {
   "cell_type": "code",
   "execution_count": null,
   "metadata": {},
   "outputs": [],
   "source": [
    "# loan_lenders_details = extract_loan_lenders(loan_ids)"
   ]
  },
  {
   "cell_type": "markdown",
   "metadata": {},
   "source": [
    "We then write the output to a data frame. Let's take a look at what we've got! "
   ]
  },
  {
   "cell_type": "code",
   "execution_count": null,
   "metadata": {},
   "outputs": [],
   "source": [
    "# loan_lenders_details.head(100)"
   ]
  },
  {
   "cell_type": "code",
   "execution_count": null,
   "metadata": {},
   "outputs": [],
   "source": [
    "# loan_lenders_details.to_csv('~/intro_to_machine_learning/data/loans_lenders_details.csv')"
   ]
  }
 ],
 "metadata": {
  "kernelspec": {
   "display_name": "Python 3",
   "language": "python",
   "name": "python3"
  },
  "language_info": {
   "codemirror_mode": {
    "name": "ipython",
    "version": 3
   },
   "file_extension": ".py",
   "mimetype": "text/x-python",
   "name": "python",
   "nbconvert_exporter": "python",
   "pygments_lexer": "ipython3",
   "version": "3.6.6"
  }
 },
 "nbformat": 4,
 "nbformat_minor": 2
}
