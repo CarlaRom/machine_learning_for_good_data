{
 "cells": [
  {
   "cell_type": "markdown",
   "metadata": {},
   "source": [
    "Get Kiva data\n",
    "====="
   ]
  },
  {
   "cell_type": "code",
   "execution_count": 17,
   "metadata": {},
   "outputs": [],
   "source": [
    "reset -fs"
   ]
  },
  {
   "cell_type": "code",
   "execution_count": 18,
   "metadata": {},
   "outputs": [],
   "source": [
    "import os\n",
    "import json\n",
    "import logging\n",
    "import requests\n",
    "import time\n",
    "from urllib.request import urlopen, Request\n",
    "\n",
    "from pandas.io.json import json_normalize\n",
    "import pandas as pd"
   ]
  },
  {
   "cell_type": "code",
   "execution_count": 19,
   "metadata": {},
   "outputs": [],
   "source": [
    "r = requests.get('http://api.kivaws.org/v1/loans/search.json?country_code=NG&per_page=500')"
   ]
  },
  {
   "cell_type": "code",
   "execution_count": 29,
   "metadata": {},
   "outputs": [
    {
     "data": {
      "text/plain": [
       "403"
      ]
     },
     "execution_count": 29,
     "metadata": {},
     "output_type": "execute_result"
    }
   ],
   "source": [
    "r.status_code"
   ]
  },
  {
   "cell_type": "code",
   "execution_count": 21,
   "metadata": {
    "code_folding": []
   },
   "outputs": [],
   "source": [
    "def extract_loans(n_pages, country_iso_code):\n",
    "\n",
    "    loans_full = pd.DataFrame()\n",
    "    loans_details = pd.DataFrame()\n",
    "    \n",
    "    for n in range(1, n_pages+1):\n",
    "        print(f\"Requesting {country_iso_code} page: {n}\")\n",
    "        n_per_page = 10\n",
    "        url = f'http://api.kivaws.org/v1/loans/search.json?country_code={country_iso_code}&per_page={n_per_page}&page={n}'\n",
    "        r = requests.get(url)\n",
    "        if r.status_code = 403:\n",
    "            print(\"Too many requests. Slow down\")\n",
    "        data = json.loads(r.text)\n",
    "        loans = json_normalize(data['loans'])\n",
    "        \n",
    "        if data['paging']['total'] == 0:\n",
    "            break # Stop if there are no loans\n",
    "            \n",
    "        # Take the loan id column from our retrieved loan data, and use it to pull additional details\n",
    "        # about our loans. We store this in a seperate table loans_details\n",
    "        \n",
    "        loan_ids = loans['id'].tolist()\n",
    "        loan_ids_str = ','.join(str(e) for e in loan_ids)\n",
    "        r = requests.get('https://api.kivaws.org/v1/loans/'+loan_ids_str+'.json')\n",
    "        ld_data = json.loads(r.text)\n",
    "        loans_ext = json_normalize(ld_data['loans'])\n",
    "        loans_details = loans_details.append(loans_ext, ignore_index=True)\n",
    "         \n",
    "        loans_full = loans_full.append(loans,ignore_index=True)\n",
    "        print(\"The number of loans on current page: {}\".format(len(loans_full.index)))\n",
    "        time.sleep(1) # Wait a little while to so we don't overload Kiva servers\n",
    "        \n",
    "    return loans_full, loans_details"
   ]
  },
  {
   "cell_type": "code",
   "execution_count": 22,
   "metadata": {},
   "outputs": [],
   "source": [
    "country_codes_without_data = [\"DZ\", \"AO\", \"SH\"]\n",
    "country_codes_with_data = [\"BJ\", \"BW\", \"BF\", \"BI\", \"CM\", \"CV\", \"CF\", \"TD\", \"KM\", \"CG\", \"CD\", \"DJ\", \"EG\", \"GQ\", \"ER\", \"SZ\", \"ET\", \"GA\", \"GM\", \"GH\", \"GN\", \"GW\", \"CI\", \"KE\", \"LS\", \"LR\", \"LY\", \"MG\", \"MW\", \"ML\", \"MR\", \"MU\", \"YT\", \"MA\", \"MZ\", \"NA\", \"NE\", \"NG\", \"ST\", \"RE\", \"RW\", \"ST\", \"SN\", \"SC\", \"SL\", \"SO\", \"ZA\", \"SS\", \"SH\", \"SD\", \"SZ\", \"TZ\", \"TG\", \"TN\", \"UG\", \"CD\", \"ZM\", \"TZ\", \"ZW\"]"
   ]
  },
  {
   "cell_type": "code",
   "execution_count": 23,
   "metadata": {},
   "outputs": [
    {
     "name": "stdout",
     "output_type": "stream",
     "text": [
      "Requesting BJ page: 1\n"
     ]
    },
    {
     "ename": "KeyError",
     "evalue": "'loans'",
     "output_type": "error",
     "traceback": [
      "\u001b[0;31m---------------------------------------------------------------------------\u001b[0m",
      "\u001b[0;31mKeyError\u001b[0m                                  Traceback (most recent call last)",
      "\u001b[0;32m<ipython-input-23-ddeccace4f07>\u001b[0m in \u001b[0;36m<module>\u001b[0;34m()\u001b[0m\n\u001b[1;32m      3\u001b[0m \u001b[0;34m\u001b[0m\u001b[0m\n\u001b[1;32m      4\u001b[0m \u001b[0;32mfor\u001b[0m \u001b[0mcode\u001b[0m \u001b[0;32min\u001b[0m \u001b[0mcountry_codes_with_data\u001b[0m\u001b[0;34m:\u001b[0m\u001b[0;34m\u001b[0m\u001b[0m\n\u001b[0;32m----> 5\u001b[0;31m     \u001b[0mloans_full\u001b[0m\u001b[0;34m,\u001b[0m \u001b[0mloans_details\u001b[0m \u001b[0;34m=\u001b[0m \u001b[0mextract_loans\u001b[0m\u001b[0;34m(\u001b[0m\u001b[0mn_pages\u001b[0m\u001b[0;34m=\u001b[0m\u001b[0;36m1\u001b[0m\u001b[0;34m,\u001b[0m \u001b[0mcountry_iso_code\u001b[0m\u001b[0;34m=\u001b[0m\u001b[0mcode\u001b[0m\u001b[0;34m)\u001b[0m\u001b[0;34m\u001b[0m\u001b[0m\n\u001b[0m\u001b[1;32m      6\u001b[0m     \u001b[0mloans_full_complete\u001b[0m\u001b[0;34m.\u001b[0m\u001b[0mappend\u001b[0m\u001b[0;34m(\u001b[0m\u001b[0mloans_full\u001b[0m\u001b[0;34m)\u001b[0m\u001b[0;34m\u001b[0m\u001b[0m\n\u001b[1;32m      7\u001b[0m     \u001b[0mloans_details_complete\u001b[0m\u001b[0;34m.\u001b[0m\u001b[0mappend\u001b[0m\u001b[0;34m(\u001b[0m\u001b[0mloans_details\u001b[0m\u001b[0;34m)\u001b[0m\u001b[0;34m\u001b[0m\u001b[0m\n",
      "\u001b[0;32m<ipython-input-21-467ff4506ad2>\u001b[0m in \u001b[0;36mextract_loans\u001b[0;34m(n_pages, country_iso_code)\u001b[0m\n\u001b[1;32m     10\u001b[0m         \u001b[0mr\u001b[0m \u001b[0;34m=\u001b[0m \u001b[0mrequests\u001b[0m\u001b[0;34m.\u001b[0m\u001b[0mget\u001b[0m\u001b[0;34m(\u001b[0m\u001b[0murl\u001b[0m\u001b[0;34m)\u001b[0m\u001b[0;34m\u001b[0m\u001b[0m\n\u001b[1;32m     11\u001b[0m         \u001b[0mdata\u001b[0m \u001b[0;34m=\u001b[0m \u001b[0mjson\u001b[0m\u001b[0;34m.\u001b[0m\u001b[0mloads\u001b[0m\u001b[0;34m(\u001b[0m\u001b[0mr\u001b[0m\u001b[0;34m.\u001b[0m\u001b[0mtext\u001b[0m\u001b[0;34m)\u001b[0m\u001b[0;34m\u001b[0m\u001b[0m\n\u001b[0;32m---> 12\u001b[0;31m         \u001b[0mloans\u001b[0m \u001b[0;34m=\u001b[0m \u001b[0mjson_normalize\u001b[0m\u001b[0;34m(\u001b[0m\u001b[0mdata\u001b[0m\u001b[0;34m[\u001b[0m\u001b[0;34m'loans'\u001b[0m\u001b[0;34m]\u001b[0m\u001b[0;34m)\u001b[0m\u001b[0;34m\u001b[0m\u001b[0m\n\u001b[0m\u001b[1;32m     13\u001b[0m \u001b[0;34m\u001b[0m\u001b[0m\n\u001b[1;32m     14\u001b[0m         \u001b[0;32mif\u001b[0m \u001b[0mdata\u001b[0m\u001b[0;34m[\u001b[0m\u001b[0;34m'paging'\u001b[0m\u001b[0;34m]\u001b[0m\u001b[0;34m[\u001b[0m\u001b[0;34m'total'\u001b[0m\u001b[0;34m]\u001b[0m \u001b[0;34m==\u001b[0m \u001b[0;36m0\u001b[0m\u001b[0;34m:\u001b[0m\u001b[0;34m\u001b[0m\u001b[0m\n",
      "\u001b[0;31mKeyError\u001b[0m: 'loans'"
     ]
    }
   ],
   "source": [
    "loans_full_complete = pd.DataFrame()\n",
    "loans_details_complete = pd.DataFrame()\n",
    "\n",
    "for code in country_codes_with_data:\n",
    "    loans_full, loans_details = extract_loans(n_pages=1, country_iso_code=code)  \n",
    "    loans_full_complete.append(loans_full)\n",
    "    loans_details_complete.append(loans_details)\n",
    "    break"
   ]
  },
  {
   "cell_type": "code",
   "execution_count": null,
   "metadata": {},
   "outputs": [],
   "source": [
    "loans_details"
   ]
  },
  {
   "cell_type": "code",
   "execution_count": null,
   "metadata": {},
   "outputs": [],
   "source": [
    "loans_full_complete.shape"
   ]
  },
  {
   "cell_type": "markdown",
   "metadata": {},
   "source": [
    "# TODO: Refactor below this cell "
   ]
  },
  {
   "cell_type": "markdown",
   "metadata": {},
   "source": [
    "-----\n",
    "\n",
    "Let's save our data!"
   ]
  },
  {
   "cell_type": "code",
   "execution_count": null,
   "metadata": {},
   "outputs": [],
   "source": [
    "path = 'data/'\n",
    "loans_full.to_csv(path+'loans_full_large.csv')\n",
    "loans_details.to_csv(path+'loans_details.csv')"
   ]
  },
  {
   "cell_type": "markdown",
   "metadata": {},
   "source": [
    "We will also pull data about Kiva's partners, who are the intermediaries between Kiva and end recipients for the majority of loans made."
   ]
  },
  {
   "cell_type": "code",
   "execution_count": null,
   "metadata": {},
   "outputs": [],
   "source": [
    "data_path = '~/intro_to_machine_learning/data'\n",
    "df=pd.read_csv(data_path+'/loans_details.csv', low_memory=False)\n",
    "df.head()"
   ]
  },
  {
   "cell_type": "code",
   "execution_count": null,
   "metadata": {},
   "outputs": [],
   "source": [
    "df=df[df['partner_id'].notnull()]\n",
    "df['partner_id']=df['partner_id'].astype(int).astype(str)\n",
    "partner_id=df['partner_id'].unique().tolist()"
   ]
  },
  {
   "cell_type": "code",
   "execution_count": null,
   "metadata": {},
   "outputs": [],
   "source": [
    "d = r.get('https://api.kivaws.org/v1/partners/322.json?app_id=org.deltanalytics')"
   ]
  },
  {
   "cell_type": "code",
   "execution_count": null,
   "metadata": {
    "scrolled": false
   },
   "outputs": [],
   "source": [
    "d.headers"
   ]
  },
  {
   "cell_type": "code",
   "execution_count": null,
   "metadata": {},
   "outputs": [],
   "source": [
    "d.json();"
   ]
  },
  {
   "cell_type": "code",
   "execution_count": null,
   "metadata": {},
   "outputs": [],
   "source": [
    "def extract_loan_partners(partner_ids):\n",
    "    loan_partner_details=pd.DataFrame()\n",
    "    for n in partner_ids:\n",
    "        d = r.get('https://api.kivaws.org/v1/partners/'+n+'.json?app_id=org.deltanalytics')\n",
    "        data = json.loads(d.text)\n",
    "        partners=json_normalize(data['partners'])\n",
    "        loan_partner_details=loan_partner_details.append(partners, ignore_index=True)\n",
    "    \n",
    "    return loan_partner_details  "
   ]
  },
  {
   "cell_type": "code",
   "execution_count": null,
   "metadata": {},
   "outputs": [],
   "source": [
    "loan_partner_details=extract_loan_partners(partner_id)"
   ]
  },
  {
   "cell_type": "code",
   "execution_count": null,
   "metadata": {
    "scrolled": true
   },
   "outputs": [],
   "source": [
    "loan_partner_details.to_csv('~/intro_to_machine_learning/data/loans_partner_details.csv')"
   ]
  },
  {
   "cell_type": "markdown",
   "metadata": {},
   "source": [
    "## Pulling each loan's lender details\n",
    "\n",
    "Now that we have selected a subset of loans to focus in on, we want to pull all of the lenders of these loans. We do so here by first creating a list of the loans we are interested in. "
   ]
  },
  {
   "cell_type": "code",
   "execution_count": null,
   "metadata": {
    "scrolled": false
   },
   "outputs": [],
   "source": [
    "loan_ids = df['id'].astype(int).astype(str)\n",
    "loan_ids = loan_ids.unique().tolist()\n",
    "loan_ids[0:5]"
   ]
  },
  {
   "cell_type": "markdown",
   "metadata": {},
   "source": [
    "Here we define a function that will extract details of every lender who has contributed to a single loan, and then loop it over the list of loans that we created in the previous step:"
   ]
  },
  {
   "cell_type": "code",
   "execution_count": null,
   "metadata": {},
   "outputs": [],
   "source": [
    "def extract_loan_lenders(loan_ids):\n",
    "    loan_lenders_details=pd.DataFrame()\n",
    "    for n in loan_ids:\n",
    "        d = r.get('https://api.kivaws.org/v1/loans/'+n+'/lenders.json?app_id=org.deltanalytics')\n",
    "        data = json.loads(d.text)\n",
    "        if len(data['lenders']) != 0:\n",
    "            lenders=json_normalize(data['lenders'])\n",
    "        else: lenders = pd.DataFrame()\n",
    "        lenders['loan_id'] = n\n",
    "        loan_lenders_details = loan_lenders_details.append(lenders, ignore_index=True)\n",
    "\n",
    "    return loan_lenders_details  "
   ]
  },
  {
   "cell_type": "code",
   "execution_count": null,
   "metadata": {},
   "outputs": [],
   "source": [
    "loan_lenders_details = extract_loan_lenders(loan_ids)"
   ]
  },
  {
   "cell_type": "markdown",
   "metadata": {},
   "source": [
    "We then write the output to a data frame. Let's take a look at what we've got! "
   ]
  },
  {
   "cell_type": "code",
   "execution_count": null,
   "metadata": {},
   "outputs": [],
   "source": [
    "loan_lenders_details.head(100)"
   ]
  },
  {
   "cell_type": "code",
   "execution_count": null,
   "metadata": {},
   "outputs": [],
   "source": [
    "loan_lenders_details.to_csv('~/intro_to_machine_learning/data/loans_lenders_details.csv')"
   ]
  }
 ],
 "metadata": {
  "kernelspec": {
   "display_name": "Python 3",
   "language": "python",
   "name": "python3"
  },
  "language_info": {
   "codemirror_mode": {
    "name": "ipython",
    "version": 3
   },
   "file_extension": ".py",
   "mimetype": "text/x-python",
   "name": "python",
   "nbconvert_exporter": "python",
   "pygments_lexer": "ipython3",
   "version": "3.6.6"
  }
 },
 "nbformat": 4,
 "nbformat_minor": 2
}
